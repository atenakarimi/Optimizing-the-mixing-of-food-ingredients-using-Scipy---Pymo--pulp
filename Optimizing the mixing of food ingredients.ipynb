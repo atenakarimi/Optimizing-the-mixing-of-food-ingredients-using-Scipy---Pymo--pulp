{
 "cells": [
  {
   "cell_type": "markdown",
   "id": "1cccc617",
   "metadata": {},
   "source": [
    "**The problem of optimizing the mixing of food ingredients**\n"
   ]
  },
  {
   "cell_type": "markdown",
   "id": "83936e74",
   "metadata": {},
   "source": [
    "# solving with scipy"
   ]
  },
  {
   "cell_type": "code",
   "execution_count": 20,
   "id": "01ec8099",
   "metadata": {},
   "outputs": [
    {
     "data": {
      "text/plain": [
       "     con: array([6.7864363e-09])\n",
       "     fun: 7.089801904082424\n",
       " message: 'Optimization terminated successfully.'\n",
       "     nit: 7\n",
       "   slack: array([3.50462104e-10, 4.00000000e-01, 2.53117705e-09, 1.11679959e+00])\n",
       "  status: 0\n",
       " success: True\n",
       "       x: array([ 2.81708258, 64.85721635, 32.32570106])"
      ]
     },
     "execution_count": 20,
     "metadata": {},
     "output_type": "execute_result"
    }
   ],
   "source": [
    "from scipy.optimize import linprog\n",
    "\n",
    "c=[0.0164,0.0463,0.125]\n",
    "\n",
    "Aeq=[[1,1,1]]\n",
    "\n",
    "beq=100\n",
    "\n",
    "A=[[0.38,0.001,0.002],[-0.38,-0.001,-0.002],[0,-0.09,-0.5],[0,0.02,0.08]]\n",
    "\n",
    "b=[1.2,-0.8,-22,5]\n",
    "\n",
    "opt = linprog(c=c, A_ub=A, b_ub=b, A_eq=Aeq, b_eq=beq)\n",
    "\n",
    "opt"
   ]
  },
  {
   "cell_type": "code",
   "execution_count": 21,
   "id": "6a06a358",
   "metadata": {},
   "outputs": [],
   "source": [
    "import matplotlib.pyplot as plt\n",
    "import numpy as np\n",
    "import seaborn as sns\n",
    "import pandas as pd"
   ]
  },
  {
   "cell_type": "code",
   "execution_count": 22,
   "id": "1584388c",
   "metadata": {},
   "outputs": [
    {
     "data": {
      "text/html": [
       "<div>\n",
       "<style scoped>\n",
       "    .dataframe tbody tr th:only-of-type {\n",
       "        vertical-align: middle;\n",
       "    }\n",
       "\n",
       "    .dataframe tbody tr th {\n",
       "        vertical-align: top;\n",
       "    }\n",
       "\n",
       "    .dataframe thead th {\n",
       "        text-align: right;\n",
       "    }\n",
       "</style>\n",
       "<table border=\"1\" class=\"dataframe\">\n",
       "  <thead>\n",
       "    <tr style=\"text-align: right;\">\n",
       "      <th></th>\n",
       "      <th>foods</th>\n",
       "      <th>Amount of each food</th>\n",
       "    </tr>\n",
       "  </thead>\n",
       "  <tbody>\n",
       "    <tr>\n",
       "      <th>0</th>\n",
       "      <td>Limestone</td>\n",
       "      <td>2.817083</td>\n",
       "    </tr>\n",
       "    <tr>\n",
       "      <th>2</th>\n",
       "      <td>Soybean flour</td>\n",
       "      <td>32.325701</td>\n",
       "    </tr>\n",
       "    <tr>\n",
       "      <th>1</th>\n",
       "      <td>corn</td>\n",
       "      <td>64.857216</td>\n",
       "    </tr>\n",
       "  </tbody>\n",
       "</table>\n",
       "</div>"
      ],
      "text/plain": [
       "           foods  Amount of each food\n",
       "0      Limestone             2.817083\n",
       "2  Soybean flour            32.325701\n",
       "1           corn            64.857216"
      ]
     },
     "execution_count": 22,
     "metadata": {},
     "output_type": "execute_result"
    }
   ],
   "source": [
    "df_x=pd.DataFrame({'foods':['Limestone','corn','Soybean flour'],\n",
    "                   'Amount of each food':[2.81708258,64.85721635,32.32570106]}).sort_values('Amount of each food',ascending=True)\n",
    "df_x                   "
   ]
  },
  {
   "cell_type": "code",
   "execution_count": 23,
   "id": "2f8f6faa",
   "metadata": {},
   "outputs": [
    {
     "data": {
      "text/plain": [
       "<AxesSubplot:xlabel='foods', ylabel='Amount of each food'>"
      ]
     },
     "execution_count": 23,
     "metadata": {},
     "output_type": "execute_result"
    },
    {
     "data": {
      "image/png": "[encoded data removed]",
      "text/plain": [
       "<Figure size 864x576 with 1 Axes>"
      ]
     },
     "metadata": {},
     "output_type": "display_data"
    }
   ],
   "source": [
    "sns.set()\n",
    "plt.figure(figsize=(12,8))\n",
    "sns.barplot(data=df_x,x='foods',y='Amount of each food',palette='rocket')\n"
   ]
  },
  {
   "cell_type": "markdown",
   "id": "d189671c",
   "metadata": {},
   "source": [
    "# solving with pyomo"
   ]
  },
  {
   "cell_type": "code",
   "execution_count": 18,
   "id": "23e726d7",
   "metadata": {},
   "outputs": [
    {
     "name": "stdout",
     "output_type": "stream",
     "text": [
      "# ==========================================================\n",
      "# = Solver Results                                         =\n",
      "# ==========================================================\n",
      "# ----------------------------------------------------------\n",
      "#   Problem Information\n",
      "# ----------------------------------------------------------\n",
      "Problem: \n",
      "- Name: unknown\n",
      "  Lower bound: 7.08980190378184\n",
      "  Upper bound: 7.08980190378184\n",
      "  Number of objectives: 1\n",
      "  Number of constraints: 6\n",
      "  Number of variables: 4\n",
      "  Number of nonzeros: 14\n",
      "  Sense: minimize\n",
      "# ----------------------------------------------------------\n",
      "#   Solver Information\n",
      "# ----------------------------------------------------------\n",
      "Solver: \n",
      "- Status: ok\n",
      "  Termination condition: optimal\n",
      "  Statistics: \n",
      "    Branch and bound: \n",
      "      Number of bounded subproblems: 0\n",
      "      Number of created subproblems: 0\n",
      "  Error rc: 0\n",
      "  Time: 0.047035932540893555\n",
      "# ----------------------------------------------------------\n",
      "#   Solution Information\n",
      "# ----------------------------------------------------------\n",
      "Solution: \n",
      "- number of solutions: 0\n",
      "  number of solutions displayed: 0\n",
      "3 Var Declarations\n",
      "    x1 : Size=1, Index=None\n",
      "        Key  : Lower : Value            : Upper : Fixed : Stale : Domain\n",
      "        None :     0 : 2.81708258296887 :  None : False : False : NonNegativeReals\n",
      "    x2 : Size=1, Index=None\n",
      "        Key  : Lower : Value            : Upper : Fixed : Stale : Domain\n",
      "        None :     0 : 64.8572163622331 :  None : False : False : NonNegativeReals\n",
      "    x3 : Size=1, Index=None\n",
      "        Key  : Lower : Value            : Upper : Fixed : Stale : Domain\n",
      "        None :     0 : 32.3257010547981 :  None : False : False : NonNegativeReals\n",
      "\n",
      "1 Objective Declarations\n",
      "    cost : Size=1, Index=None, Active=True\n",
      "        Key  : Active : Sense    : Expression\n",
      "        None :   True : minimize : 0.0164*x1 + 0.0463*x2 + 0.125*x3\n",
      "\n",
      "5 Constraint Declarations\n",
      "    con1 : Size=1, Index=None, Active=True\n",
      "        Key  : Lower : Body         : Upper : Active\n",
      "        None : 100.0 : x1 + x2 + x3 : 100.0 :   True\n",
      "    con2 : Size=1, Index=None, Active=True\n",
      "        Key  : Lower : Body                          : Upper : Active\n",
      "        None :   0.8 : 0.38*x1 + 0.001*x2 + 0.002*x3 :  +Inf :   True\n",
      "    con3 : Size=1, Index=None, Active=True\n",
      "        Key  : Lower : Body                          : Upper : Active\n",
      "        None :  -Inf : 0.38*x1 + 0.001*x2 + 0.002*x3 :   1.2 :   True\n",
      "    con4 : Size=1, Index=None, Active=True\n",
      "        Key  : Lower : Body             : Upper : Active\n",
      "        None :  22.0 : 0.09*x2 + 0.5*x3 :  +Inf :   True\n",
      "    con5 : Size=1, Index=None, Active=True\n",
      "        Key  : Lower : Body              : Upper : Active\n",
      "        None :  -Inf : 0.02*x2 + 0.08*x3 :   5.0 :   True\n",
      "\n",
      "9 Declarations: x1 x2 x3 cost con1 con2 con3 con4 con5\n",
      "\n",
      "Total cost =  7.089801903781845\n",
      "\n",
      "Decision Variables\n",
      "Limestone =  2.81708258296887\n",
      "Corn =  64.8572163622331\n",
      "Soybean flour =  32.3257010547981\n"
     ]
    }
   ],
   "source": [
    "from pyomo.environ import *\n",
    "\n",
    "# create a model\n",
    "model = ConcreteModel()\n",
    "\n",
    "# declare decision variables\n",
    "model.x1 = Var(domain=NonNegativeReals)\n",
    "model.x2 = Var(domain=NonNegativeReals)\n",
    "model.x3 = Var(domain=NonNegativeReals)\n",
    "\n",
    "# declare objective\n",
    "model.cost = Objective(expr = 0.0164*model.x1 + 0.0463*model.x2 + 0.125*model.x3, sense=minimize)\n",
    "\n",
    "# declare constraints\n",
    "model.con1 = Constraint(expr = model.x1 + model.x2 + model.x3 == 100)\n",
    "model.con2 = Constraint(expr = 0.38*model.x1 + 0.001*model.x2 + 0.002*model.x3 >= 0.8)\n",
    "model.con3 = Constraint(expr = 0.38*model.x1 + 0.001*model.x2 + 0.002*model.x3 <= 1.2)\n",
    "model.con4 = Constraint(expr = 0.09*model.x2 + 0.5*model.x3 >= 22)\n",
    "model.con5 = Constraint(expr = 0.02*model.x2 + 0.08*model.x3 <= 5)\n",
    "\n",
    "# solve\n",
    "results = SolverFactory('glpk').solve(model)\n",
    "results.write()\n",
    "if results.solver.status:\n",
    "    model.pprint()\n",
    "\n",
    "# display solution\n",
    "print('\\nTotal cost = ', model.cost())\n",
    "\n",
    "print('\\nDecision Variables')\n",
    "print('Limestone = ', model.x1())\n",
    "print('Corn = ', model.x2())\n",
    "print('Soybean flour = ', model.x3())\n"
   ]
  },
  {
   "cell_type": "markdown",
   "id": "130f7dd9",
   "metadata": {},
   "source": [
    "# solving with pulp"
   ]
  },
  {
   "cell_type": "code",
   "execution_count": 15,
   "id": "20c44919",
   "metadata": {},
   "outputs": [
    {
     "name": "stdout",
     "output_type": "stream",
     "text": [
      "optimizing_the_mixing_of_the_food_:\n",
      "MINIMIZE\n",
      "0.0164*Limestone + 0.125*Soybean_flour + 0.0463*corn + 0.0\n",
      "SUBJECT TO\n",
      "_C1: Limestone + Soybean_flour + corn = 100\n",
      "\n",
      "_C2: 0.38 Limestone + 0.002 Soybean_flour + 0.001 corn >= 0.8\n",
      "\n",
      "_C3: 0.38 Limestone + 0.002 Soybean_flour + 0.001 corn <= 1.2\n",
      "\n",
      "_C4: 0.5 Soybean_flour + 0.09 corn >= 22\n",
      "\n",
      "_C5: 0.08 Soybean_flour + 0.02 corn <= 5\n",
      "\n",
      "VARIABLES\n",
      "0 <= Limestone Integer\n",
      "0 <= Soybean_flour Integer\n",
      "0 <= corn Integer\n",
      "\n",
      "Limestone:  2.0\n",
      "Corn:  65.0\n",
      "Soybean flour:  33.0\n",
      "Total cost:  7.1673\n"
     ]
    },
    {
     "name": "stderr",
     "output_type": "stream",
     "text": [
      "C:\\Users\\Atena\\anaconda3\\lib\\site-packages\\pulp\\pulp.py:1352: UserWarning: Spaces are not permitted in the name. Converted to '_'\n",
      "  warnings.warn(\"Spaces are not permitted in the name. Converted to '_'\")\n"
     ]
    }
   ],
   "source": [
    "from pulp import *\n",
    "\n",
    "problem = LpProblem('optimizing the mixing of the food ', LpMinimize)\n",
    "x1 = LpVariable('Limestone', lowBound=0 , cat=LpInteger)\n",
    "x2 = LpVariable('corn', lowBound=0 , cat=LpInteger)\n",
    "x3 = LpVariable('Soybean flour', lowBound=0 , cat=LpInteger)\n",
    "\n",
    "#Objective Function\n",
    "problem += 0.0164*x1 + 0.0463*x2 + 0.125*x3\n",
    "#Constraints\n",
    "problem += x1 + x2 + x3 == 100 \n",
    "problem += 0.38*x1 + 0.001*x2 + 0.002*x3 >= 0.8 \n",
    "problem += 0.38*x1 + 0.001*x2 + 0.002*x3 <= 1.2 \n",
    "problem += 0.09*x2 + 0.5*x3 >= 22 \n",
    "problem += 0.02*x2 + 0.08*x3 <= 5 \n",
    "\n",
    "print(problem)\n",
    "\n",
    "problem.solve()\n",
    "print(\"Limestone: \", x1.varValue)\n",
    "print(\"Corn: \", x2.varValue)\n",
    "print(\"Soybean flour: \", x3.varValue)\n",
    "\n",
    "print(\"Total cost: \", value(problem.objective))"
   ]
  },
  {
   "cell_type": "code",
   "execution_count": null,
   "id": "dfa650c0",
   "metadata": {},
   "outputs": [],
   "source": []
  }
 ],
 "metadata": {
  "kernelspec": {
   "display_name": "Python 3",
   "language": "python",
   "name": "python3"
  },
  "language_info": {
   "codemirror_mode": {
    "name": "ipython",
    "version": 3
   },
   "file_extension": ".py",
   "mimetype": "text/x-python",
   "name": "python",
   "nbconvert_exporter": "python",
   "pygments_lexer": "ipython3",
   "version": "3.8.8"
  }
 },
 "nbformat": 4,
 "nbformat_minor": 5
}
